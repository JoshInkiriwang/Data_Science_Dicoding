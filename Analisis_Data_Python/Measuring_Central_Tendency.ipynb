{
  "nbformat": 4,
  "nbformat_minor": 0,
  "metadata": {
    "colab": {
      "provenance": [],
      "authorship_tag": "ABX9TyPXOQvEClGzgDrhSFr4cr5C",
      "include_colab_link": true
    },
    "kernelspec": {
      "name": "python3",
      "display_name": "Python 3"
    },
    "language_info": {
      "name": "python"
    }
  },
  "cells": [
    {
      "cell_type": "markdown",
      "metadata": {
        "id": "view-in-github",
        "colab_type": "text"
      },
      "source": [
        "<a href=\"https://colab.research.google.com/github/JoshInkiriwang/Data_Science_Dicoding/blob/main/Measuring_Central_Tendency.ipynb\" target=\"_parent\"><img src=\"https://colab.research.google.com/assets/colab-badge.svg\" alt=\"Open In Colab\"/></a>"
      ]
    },
    {
      "cell_type": "markdown",
      "source": [
        "**Mencari Rata-Rata dari data** (Mean)"
      ],
      "metadata": {
        "id": "1I2Wxiiq9aZ4"
      }
    },
    {
      "cell_type": "code",
      "source": [
        "import numpy as np\n",
        "\n",
        "nilai_siswa = np.array([80, 70, 65, 85, 90, 60, 75, 70, 80, 65])\n",
        "nilai_siswa.mean()"
      ],
      "metadata": {
        "colab": {
          "base_uri": "https://localhost:8080/"
        },
        "id": "waeYOqzC85SB",
        "outputId": "632d3e49-8ab6-4fd4-dbf0-36545b20e730"
      },
      "execution_count": null,
      "outputs": [
        {
          "output_type": "execute_result",
          "data": {
            "text/plain": [
              "74.0"
            ]
          },
          "metadata": {},
          "execution_count": 6
        }
      ]
    },
    {
      "cell_type": "markdown",
      "source": [
        "(80, 70, 65, 85, 90, 60, 75, 70, 80, 65)\n",
        "\n",
        "**Urutkan data dari kecil ke besar**\n",
        "\n",
        "(60, 65, 65, 70, 70, 75, 80, 80, 85, 90)\n",
        "\n",
        "Jumlah = 60 + 65 + 65 + 70 + 70 + 75 + 80 + 80 + 85 + 90\n",
        "\n",
        "= 60 + 130 + 140 + 75 + 160 + 175\n",
        "\n",
        "= 190 + 215 + 335\n",
        "\n",
        "= 405 + 335\n",
        "\n",
        "= 740 / 10 <= Jumlah data\n",
        "\n",
        "Rata-Rata = 74"
      ],
      "metadata": {
        "id": "7hsJKiKCO_l0"
      }
    },
    {
      "cell_type": "markdown",
      "source": [
        "**Mencari nilai tengah atau persentil ke-50 dari keseluruhan observasi atau data** (Median)"
      ],
      "metadata": {
        "id": "Vdt_VVPD-CwU"
      }
    },
    {
      "cell_type": "code",
      "source": [
        "import numpy as np\n",
        "\n",
        "nilai_siswa = np.array([80, 70, 65, 85, 90, 60, 75, 70, 80, 65])\n",
        "np.median(nilai_siswa)"
      ],
      "metadata": {
        "colab": {
          "base_uri": "https://localhost:8080/"
        },
        "id": "U-uvK0q-9vs2",
        "outputId": "2795412a-0513-4d98-eee7-3416342fecc6"
      },
      "execution_count": null,
      "outputs": [
        {
          "output_type": "execute_result",
          "data": {
            "text/plain": [
              "72.5"
            ]
          },
          "metadata": {},
          "execution_count": 1
        }
      ]
    },
    {
      "cell_type": "markdown",
      "source": [
        "(80, 70, 65, 85, 90, 60, 75, 70, 80, 65)\n",
        "\n",
        "**Urutkan data dari kecil ke besar**\n",
        "\n",
        "(60, 65, 65, 70, 70, 75, 80, 80, 85, 90)\n",
        "\n",
        "Nilai Tengahnya adalah 70 dan 75\n",
        "jadinya 70+75 / 2 = 72.5"
      ],
      "metadata": {
        "id": "Llpqldk9JgV5"
      }
    },
    {
      "cell_type": "markdown",
      "source": [
        "**Mencari nilai yang paling sering muncul dalam suatu data** (Mode)"
      ],
      "metadata": {
        "id": "4UhQMzJA-eNg"
      }
    },
    {
      "cell_type": "code",
      "source": [
        "import numpy as np\n",
        "from scipy import stats\n",
        "\n",
        "nilai_siswa = np.array([80, 70, 65, 85, 90, 60, 75, 70, 80, 65])\n",
        "modus_nilai = stats.mode(nilai_siswa)[0:2]\n",
        "\n",
        "print(modus_nilai)"
      ],
      "metadata": {
        "colab": {
          "base_uri": "https://localhost:8080/"
        },
        "id": "DWjEmsWw-h0p",
        "outputId": "d1293db8-f8bf-43ab-8837-8db1f1e2de31"
      },
      "execution_count": null,
      "outputs": [
        {
          "output_type": "stream",
          "name": "stdout",
          "text": [
            "(65, 2)\n"
          ]
        }
      ]
    },
    {
      "cell_type": "markdown",
      "source": [
        "(80, 70, 65, 85, 90, 60, 75, 70, 80, 65)\n",
        "\n",
        "**Urutkan data dari kecil ke besar**\n",
        "\n",
        "(60, 65, 65, 70, 70, 75, 80, 80, 85, 90)\n",
        "\n",
        "*   60 = 1 Buah\n",
        "*   65 = 2 Buah\n",
        "*   70 = 2 Buah\n",
        "*   75 = 1 Buah\n",
        "*   80 = 2 Buah\n",
        "*   85 = 1 Buah\n",
        "*   90 = 1 Buah\n",
        "\n",
        "Modus itu mencari angka dengan frekuensi terbanyak, dimana pada list diatas ada 3 angka yang memiliki frekuensi yang sama yaitu 2 buah. Jadinya modus pada nilai siswa tersebut ialah 65, 70, 80"
      ],
      "metadata": {
        "id": "wwbqBOjG_-6x"
      }
    }
  ]
}
